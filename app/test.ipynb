{
 "cells": [
  {
   "cell_type": "code",
   "execution_count": 1,
   "metadata": {},
   "outputs": [],
   "source": [
    "import numpy as np\n",
    "import pandas as pd"
   ]
  },
  {
   "cell_type": "code",
   "execution_count": 66,
   "metadata": {},
   "outputs": [
    {
     "data": {
      "text/plain": [
       "([['__label__9003A', '__label__5911A'],\n",
       "  ['__label__4321A', '__label__4321B'],\n",
       "  ['__label__8211Z', '__label__8219Z']],\n",
       " [array([0.692652 , 0.3208313]),\n",
       "  array([1.00001   , 0.00256091]),\n",
       "  array([0.754925  , 0.06372499])])"
      ]
     },
     "execution_count": 66,
     "metadata": {},
     "output_type": "execute_result"
    }
   ],
   "source": [
    "predictions = ([['__label__9003A', '__label__5911A'], ['__label__4321A', '__label__4321B'], ['__label__8211Z', '__label__8219Z']], [np.array([0.692652 , 0.3208313]), np.array([1.00001   , 0.00256091]), np.array([0.754925  , 0.06372499])])\n",
    "predictions"
   ]
  },
  {
   "cell_type": "code",
   "execution_count": 69,
   "metadata": {},
   "outputs": [
    {
     "data": {
      "text/plain": [
       "3"
      ]
     },
     "execution_count": 69,
     "metadata": {},
     "output_type": "execute_result"
    }
   ],
   "source": [
    "len(predictions[0])"
   ]
  },
  {
   "cell_type": "code",
   "execution_count": 48,
   "metadata": {},
   "outputs": [
    {
     "data": {
      "text/plain": [
       "array([], dtype=float64)"
      ]
     },
     "execution_count": 48,
     "metadata": {},
     "output_type": "execute_result"
    }
   ],
   "source": [
    "np.diff(predictions[1][0]).astype(float)"
   ]
  },
  {
   "cell_type": "code",
   "execution_count": 44,
   "metadata": {},
   "outputs": [
    {
     "ename": "IndexError",
     "evalue": "index 0 is out of bounds for axis 0 with size 0",
     "output_type": "error",
     "traceback": [
      "\u001b[0;31m---------------------------------------------------------------------------\u001b[0m",
      "\u001b[0;31mIndexError\u001b[0m                                Traceback (most recent call last)",
      "Cell \u001b[0;32mIn[44], line 2\u001b[0m\n\u001b[1;32m      1\u001b[0m prob1 \u001b[39m=\u001b[39m predictions[\u001b[39m1\u001b[39m][\u001b[39m0\u001b[39m][\u001b[39m0\u001b[39m]\n\u001b[0;32m----> 2\u001b[0m ic \u001b[39m=\u001b[39m np\u001b[39m.\u001b[39;49mdiff(predictions[\u001b[39m1\u001b[39;49m][\u001b[39m0\u001b[39;49m])[\u001b[39m0\u001b[39;49m] \u001b[39m*\u001b[39m \u001b[39m-\u001b[39m\u001b[39m1\u001b[39m\n\u001b[1;32m      3\u001b[0m pred \u001b[39m=\u001b[39m predictions[\u001b[39m0\u001b[39m][\u001b[39m0\u001b[39m][\u001b[39m0\u001b[39m]\u001b[39m.\u001b[39mreplace(\u001b[39m\"\u001b[39m\u001b[39m__label__\u001b[39m\u001b[39m\"\u001b[39m, \u001b[39m\"\u001b[39m\u001b[39m\"\u001b[39m)\n",
      "\u001b[0;31mIndexError\u001b[0m: index 0 is out of bounds for axis 0 with size 0"
     ]
    }
   ],
   "source": [
    "prob1 = predictions[1][0][0]\n",
    "ic = np.diff(predictions[1][0])[0] * -1\n",
    "pred = predictions[0][0][0].replace(\"__label__\", \"\")"
   ]
  },
  {
   "cell_type": "code",
   "execution_count": 32,
   "metadata": {},
   "outputs": [],
   "source": [
    "x = [[predictions[1][i][0], np.diff(predictions[1][i])[0] * -1, predictions[0][i][0].replace(\"__label__\", \"\")] for i in range(len(predictions[0][0]))]"
   ]
  },
  {
   "cell_type": "code",
   "execution_count": 35,
   "metadata": {},
   "outputs": [],
   "source": [
    "df = pd.DataFrame(x, columns=[\"IC\", \"Probability\", \"Prediction\"])"
   ]
  },
  {
   "cell_type": "code",
   "execution_count": 36,
   "metadata": {},
   "outputs": [],
   "source": []
  },
  {
   "cell_type": "code",
   "execution_count": 42,
   "metadata": {},
   "outputs": [
    {
     "data": {
      "text/plain": [
       "{'IC': {0: 1.00001, 1: 0.03515484},\n",
       " 'Probability': {0: 0.9989012700000001, 1: 0.0010444100000000026},\n",
       " 'Prediction': {0: '6820A', 1: '0149Z'},\n",
       " 'Code': {0: '6820A', 1: '5813D'},\n",
       " 'Result': {0: True, 1: False}}"
      ]
     },
     "execution_count": 42,
     "metadata": {},
     "output_type": "execute_result"
    }
   ],
   "source": [
    "df.to_dict()"
   ]
  },
  {
   "cell_type": "code",
   "execution_count": 5,
   "metadata": {},
   "outputs": [],
   "source": [
    "df = pd.read_parquet(\"../data/data_sirene3.parquet\")"
   ]
  },
  {
   "cell_type": "code",
   "execution_count": 2,
   "metadata": {},
   "outputs": [],
   "source": [
    "df = pd.read_parquet(\"../data/data_gu.parquet\")"
   ]
  },
  {
   "cell_type": "code",
   "execution_count": 3,
   "metadata": {},
   "outputs": [],
   "source": [
    "df.tail(50).to_csv(\"../data/exemple.csv\")"
   ]
  },
  {
   "cell_type": "code",
   "execution_count": 5,
   "metadata": {},
   "outputs": [
    {
     "data": {
      "text/html": [
       "<div>\n",
       "<style scoped>\n",
       "    .dataframe tbody tr th:only-of-type {\n",
       "        vertical-align: middle;\n",
       "    }\n",
       "\n",
       "    .dataframe tbody tr th {\n",
       "        vertical-align: top;\n",
       "    }\n",
       "\n",
       "    .dataframe thead th {\n",
       "        text-align: right;\n",
       "    }\n",
       "</style>\n",
       "<table border=\"1\" class=\"dataframe\">\n",
       "  <thead>\n",
       "    <tr style=\"text-align: right;\">\n",
       "      <th></th>\n",
       "      <th>DATE</th>\n",
       "      <th>APE_SICORE</th>\n",
       "      <th>LIB_SICORE</th>\n",
       "      <th>AUTO</th>\n",
       "      <th>NAT_SICORE</th>\n",
       "      <th>EVT_SICORE</th>\n",
       "      <th>SURF</th>\n",
       "    </tr>\n",
       "    <tr>\n",
       "      <th>LIA_NUM</th>\n",
       "      <th></th>\n",
       "      <th></th>\n",
       "      <th></th>\n",
       "      <th></th>\n",
       "      <th></th>\n",
       "      <th></th>\n",
       "      <th></th>\n",
       "    </tr>\n",
       "  </thead>\n",
       "  <tbody>\n",
       "    <tr>\n",
       "      <th>J00010000461</th>\n",
       "      <td>2021-06-07 08:45:48</td>\n",
       "      <td>5912Z</td>\n",
       "      <td>REALISATION DE DESSINS D ANIMATION</td>\n",
       "      <td>X</td>\n",
       "      <td>None</td>\n",
       "      <td>01P</td>\n",
       "      <td>None</td>\n",
       "    </tr>\n",
       "    <tr>\n",
       "      <th>J00010000479</th>\n",
       "      <td>2021-07-28 15:37:51</td>\n",
       "      <td>4321A</td>\n",
       "      <td>ELECTRICIEN  ELECTRICITE GENERALE</td>\n",
       "      <td>Z</td>\n",
       "      <td>14</td>\n",
       "      <td>None</td>\n",
       "      <td>None</td>\n",
       "    </tr>\n",
       "    <tr>\n",
       "      <th>J00010000818</th>\n",
       "      <td>2021-10-19 19:33:16</td>\n",
       "      <td>8211Z</td>\n",
       "      <td>PRESTATIONS DE SERVICES  ASSISTANCE  AUX RESSO...</td>\n",
       "      <td>X</td>\n",
       "      <td>99</td>\n",
       "      <td>01P</td>\n",
       "      <td>None</td>\n",
       "    </tr>\n",
       "    <tr>\n",
       "      <th>J00010000842</th>\n",
       "      <td>2021-12-02 19:35:11</td>\n",
       "      <td>9609Z</td>\n",
       "      <td>BIEN ETRE ET SOINS ENERGETIQUES DU CORPS ET DE...</td>\n",
       "      <td>X</td>\n",
       "      <td>99</td>\n",
       "      <td>05P</td>\n",
       "      <td>None</td>\n",
       "    </tr>\n",
       "    <tr>\n",
       "      <th>J00010001196</th>\n",
       "      <td>2021-12-27 19:32:15</td>\n",
       "      <td>6810Z</td>\n",
       "      <td>MARCHAND DE BIENS   CREATION DE LOTISSEMENTS E...</td>\n",
       "      <td>C</td>\n",
       "      <td>99</td>\n",
       "      <td>01M</td>\n",
       "      <td>None</td>\n",
       "    </tr>\n",
       "    <tr>\n",
       "      <th>...</th>\n",
       "      <td>...</td>\n",
       "      <td>...</td>\n",
       "      <td>...</td>\n",
       "      <td>...</td>\n",
       "      <td>...</td>\n",
       "      <td>...</td>\n",
       "      <td>...</td>\n",
       "    </tr>\n",
       "    <tr>\n",
       "      <th>J00010363844</th>\n",
       "      <td>2022-07-01 11:31:48</td>\n",
       "      <td>9602B</td>\n",
       "      <td>PROTHESISTE ONGULAIRE</td>\n",
       "      <td>X</td>\n",
       "      <td>None</td>\n",
       "      <td>01P</td>\n",
       "      <td>None</td>\n",
       "    </tr>\n",
       "    <tr>\n",
       "      <th>J00010363604</th>\n",
       "      <td>2022-07-01 11:31:40</td>\n",
       "      <td>8121Z</td>\n",
       "      <td>PRESTATION DE SERVICE DE MENAGE   CHEZ LES PAR...</td>\n",
       "      <td>X</td>\n",
       "      <td>None</td>\n",
       "      <td>01P</td>\n",
       "      <td>None</td>\n",
       "    </tr>\n",
       "    <tr>\n",
       "      <th>J00010353084</th>\n",
       "      <td>2022-07-01 10:17:13</td>\n",
       "      <td>6622Z</td>\n",
       "      <td>AGENT GENERAL D ASSURANCE 6622Z</td>\n",
       "      <td>L</td>\n",
       "      <td>None</td>\n",
       "      <td>05P</td>\n",
       "      <td>None</td>\n",
       "    </tr>\n",
       "    <tr>\n",
       "      <th>J00010363794</th>\n",
       "      <td>2022-07-01 14:23:22</td>\n",
       "      <td>6831Z</td>\n",
       "      <td>AGENT IMMOBILIER</td>\n",
       "      <td>R</td>\n",
       "      <td>None</td>\n",
       "      <td>01P</td>\n",
       "      <td>None</td>\n",
       "    </tr>\n",
       "    <tr>\n",
       "      <th>J00010331874</th>\n",
       "      <td>2022-06-30 14:26:41</td>\n",
       "      <td>4120A</td>\n",
       "      <td>CONSTRUCTION DE BATIMENTS RESIDENTIELS ET NON ...</td>\n",
       "      <td>X</td>\n",
       "      <td>None</td>\n",
       "      <td>54P</td>\n",
       "      <td>None</td>\n",
       "    </tr>\n",
       "  </tbody>\n",
       "</table>\n",
       "<p>15460 rows × 7 columns</p>\n",
       "</div>"
      ],
      "text/plain": [
       "                            DATE APE_SICORE   \n",
       "LIA_NUM                                       \n",
       "J00010000461 2021-06-07 08:45:48      5912Z  \\\n",
       "J00010000479 2021-07-28 15:37:51      4321A   \n",
       "J00010000818 2021-10-19 19:33:16      8211Z   \n",
       "J00010000842 2021-12-02 19:35:11      9609Z   \n",
       "J00010001196 2021-12-27 19:32:15      6810Z   \n",
       "...                          ...        ...   \n",
       "J00010363844 2022-07-01 11:31:48      9602B   \n",
       "J00010363604 2022-07-01 11:31:40      8121Z   \n",
       "J00010353084 2022-07-01 10:17:13      6622Z   \n",
       "J00010363794 2022-07-01 14:23:22      6831Z   \n",
       "J00010331874 2022-06-30 14:26:41      4120A   \n",
       "\n",
       "                                                     LIB_SICORE AUTO   \n",
       "LIA_NUM                                                                \n",
       "J00010000461                REALISATION DE DESSINS D ANIMATION     X  \\\n",
       "J00010000479                 ELECTRICIEN  ELECTRICITE GENERALE     Z   \n",
       "J00010000818  PRESTATIONS DE SERVICES  ASSISTANCE  AUX RESSO...    X   \n",
       "J00010000842  BIEN ETRE ET SOINS ENERGETIQUES DU CORPS ET DE...    X   \n",
       "J00010001196  MARCHAND DE BIENS   CREATION DE LOTISSEMENTS E...    C   \n",
       "...                                                         ...  ...   \n",
       "J00010363844                              PROTHESISTE ONGULAIRE    X   \n",
       "J00010363604  PRESTATION DE SERVICE DE MENAGE   CHEZ LES PAR...    X   \n",
       "J00010353084                    AGENT GENERAL D ASSURANCE 6622Z    L   \n",
       "J00010363794                                   AGENT IMMOBILIER    R   \n",
       "J00010331874  CONSTRUCTION DE BATIMENTS RESIDENTIELS ET NON ...    X   \n",
       "\n",
       "             NAT_SICORE EVT_SICORE  SURF  \n",
       "LIA_NUM                                   \n",
       "J00010000461       None        01P  None  \n",
       "J00010000479         14       None  None  \n",
       "J00010000818         99        01P  None  \n",
       "J00010000842         99        05P  None  \n",
       "J00010001196         99        01M  None  \n",
       "...                 ...        ...   ...  \n",
       "J00010363844       None        01P  None  \n",
       "J00010363604       None        01P  None  \n",
       "J00010353084       None        05P  None  \n",
       "J00010363794       None        01P  None  \n",
       "J00010331874       None        54P  None  \n",
       "\n",
       "[15460 rows x 7 columns]"
      ]
     },
     "execution_count": 5,
     "metadata": {},
     "output_type": "execute_result"
    }
   ],
   "source": [
    "df"
   ]
  },
  {
   "cell_type": "code",
   "execution_count": 6,
   "metadata": {},
   "outputs": [],
   "source": [
    "df_gu = df[df.index.str.startswith(\"J\")]"
   ]
  },
  {
   "cell_type": "code",
   "execution_count": 11,
   "metadata": {},
   "outputs": [],
   "source": [
    "df_gu.to_parquet(\"../data/data_gu.parquet\")"
   ]
  },
  {
   "cell_type": "code",
   "execution_count": 35,
   "metadata": {},
   "outputs": [
    {
     "data": {
      "text/html": [
       "<div>\n",
       "<style scoped>\n",
       "    .dataframe tbody tr th:only-of-type {\n",
       "        vertical-align: middle;\n",
       "    }\n",
       "\n",
       "    .dataframe tbody tr th {\n",
       "        vertical-align: top;\n",
       "    }\n",
       "\n",
       "    .dataframe thead th {\n",
       "        text-align: right;\n",
       "    }\n",
       "</style>\n",
       "<table border=\"1\" class=\"dataframe\">\n",
       "  <thead>\n",
       "    <tr style=\"text-align: right;\">\n",
       "      <th></th>\n",
       "      <th>text_description</th>\n",
       "      <th>type_</th>\n",
       "      <th>nature</th>\n",
       "      <th>surface</th>\n",
       "      <th>event</th>\n",
       "      <th>code</th>\n",
       "    </tr>\n",
       "  </thead>\n",
       "  <tbody>\n",
       "    <tr>\n",
       "      <th>0</th>\n",
       "      <td>Nettoyage tout type de locaux</td>\n",
       "      <td>X</td>\n",
       "      <td>NaN</td>\n",
       "      <td>NaN</td>\n",
       "      <td>01P</td>\n",
       "      <td>8121Z</td>\n",
       "    </tr>\n",
       "    <tr>\n",
       "      <th>1</th>\n",
       "      <td>SOUDURE</td>\n",
       "      <td>M</td>\n",
       "      <td>99.0</td>\n",
       "      <td>NaN</td>\n",
       "      <td>01P</td>\n",
       "      <td>3320A</td>\n",
       "    </tr>\n",
       "    <tr>\n",
       "      <th>2</th>\n",
       "      <td>Retouche et confection de rideaux, stores bate...</td>\n",
       "      <td>M</td>\n",
       "      <td>4.0</td>\n",
       "      <td>NaN</td>\n",
       "      <td>01P</td>\n",
       "      <td>1392Z</td>\n",
       "    </tr>\n",
       "    <tr>\n",
       "      <th>3</th>\n",
       "      <td>prestations de services, déménagements</td>\n",
       "      <td>M</td>\n",
       "      <td>99.0</td>\n",
       "      <td>NaN</td>\n",
       "      <td>01P</td>\n",
       "      <td>4942Z</td>\n",
       "    </tr>\n",
       "    <tr>\n",
       "      <th>4</th>\n",
       "      <td>Livraison uber eats</td>\n",
       "      <td>C</td>\n",
       "      <td>99.0</td>\n",
       "      <td>NaN</td>\n",
       "      <td>01P</td>\n",
       "      <td>5320Z</td>\n",
       "    </tr>\n",
       "    <tr>\n",
       "      <th>...</th>\n",
       "      <td>...</td>\n",
       "      <td>...</td>\n",
       "      <td>...</td>\n",
       "      <td>...</td>\n",
       "      <td>...</td>\n",
       "      <td>...</td>\n",
       "    </tr>\n",
       "    <tr>\n",
       "      <th>440422</th>\n",
       "      <td>L'administration et l'exploitation par bail, l...</td>\n",
       "      <td>G</td>\n",
       "      <td>NaN</td>\n",
       "      <td>NaN</td>\n",
       "      <td>01M</td>\n",
       "      <td>6820B</td>\n",
       "    </tr>\n",
       "    <tr>\n",
       "      <th>440423</th>\n",
       "      <td>Centre d'appel.</td>\n",
       "      <td>C</td>\n",
       "      <td>99.0</td>\n",
       "      <td>NaN</td>\n",
       "      <td>01M</td>\n",
       "      <td>8220Z</td>\n",
       "    </tr>\n",
       "    <tr>\n",
       "      <th>440424</th>\n",
       "      <td>l'acquisition, l'administration et la gestion,...</td>\n",
       "      <td>G</td>\n",
       "      <td>NaN</td>\n",
       "      <td>NaN</td>\n",
       "      <td>01M</td>\n",
       "      <td>6820B</td>\n",
       "    </tr>\n",
       "    <tr>\n",
       "      <th>440425</th>\n",
       "      <td>Production d'électricité photovoltaïque inféri...</td>\n",
       "      <td>I</td>\n",
       "      <td>NaN</td>\n",
       "      <td>NaN</td>\n",
       "      <td>01P</td>\n",
       "      <td>3511Z</td>\n",
       "    </tr>\n",
       "    <tr>\n",
       "      <th>440426</th>\n",
       "      <td>Culture de la vigne</td>\n",
       "      <td>A</td>\n",
       "      <td>NaN</td>\n",
       "      <td>NaN</td>\n",
       "      <td>04M</td>\n",
       "      <td>0121Z</td>\n",
       "    </tr>\n",
       "  </tbody>\n",
       "</table>\n",
       "<p>440427 rows × 6 columns</p>\n",
       "</div>"
      ],
      "text/plain": [
       "                                         text_description type_  nature   \n",
       "0                           Nettoyage tout type de locaux     X     NaN  \\\n",
       "1                                                 SOUDURE     M    99.0   \n",
       "2       Retouche et confection de rideaux, stores bate...     M     4.0   \n",
       "3                  prestations de services, déménagements     M    99.0   \n",
       "4                                     Livraison uber eats     C    99.0   \n",
       "...                                                   ...   ...     ...   \n",
       "440422  L'administration et l'exploitation par bail, l...     G     NaN   \n",
       "440423                                    Centre d'appel.     C    99.0   \n",
       "440424  l'acquisition, l'administration et la gestion,...     G     NaN   \n",
       "440425  Production d'électricité photovoltaïque inféri...     I     NaN   \n",
       "440426                                Culture de la vigne     A     NaN   \n",
       "\n",
       "        surface event   code  \n",
       "0           NaN   01P  8121Z  \n",
       "1           NaN   01P  3320A  \n",
       "2           NaN   01P  1392Z  \n",
       "3           NaN   01P  4942Z  \n",
       "4           NaN   01P  5320Z  \n",
       "...         ...   ...    ...  \n",
       "440422      NaN   01M  6820B  \n",
       "440423      NaN   01M  8220Z  \n",
       "440424      NaN   01M  6820B  \n",
       "440425      NaN   01P  3511Z  \n",
       "440426      NaN   04M  0121Z  \n",
       "\n",
       "[440427 rows x 6 columns]"
      ]
     },
     "execution_count": 35,
     "metadata": {},
     "output_type": "execute_result"
    }
   ],
   "source": [
    "df = pd.read_csv(\"../data/Jeu_codif_APE_S4_20230606_processed.csv\",index_col=[0])\n",
    "df"
   ]
  },
  {
   "cell_type": "code",
   "execution_count": 3,
   "metadata": {},
   "outputs": [],
   "source": [
    "username = \"codification-ape\"\n",
    "password = \"codification-sirene4\""
   ]
  },
  {
   "cell_type": "code",
   "execution_count": 90,
   "metadata": {},
   "outputs": [],
   "source": [
    "def query_batch_api(username: str, password: str, data: pd.DataFrame):\n",
    "    url = \"http://codification-ape.lab.sspcloud.fr/evaluation\"\n",
    "\n",
    "    # Create the request body as a dictionary from the DataFrame\n",
    "    request_body = data.to_dict(orient=\"list\")\n",
    "\n",
    "    response = requests.post(url, json=request_body, auth=(username, password))\n",
    "    \n",
    "    if response.status_code == 200:\n",
    "        return response.json()\n",
    "    elif response.status_code == 400:\n",
    "        print(response.json()[\"detail\"])\n",
    "    else:\n",
    "        print(\"Error occurred while querying the API.\")\n",
    "        return response"
   ]
  },
  {
   "cell_type": "code",
   "execution_count": 101,
   "metadata": {},
   "outputs": [],
   "source": [
    "def query_batch_api(url, username: str, password: str, data: pd.DataFrame):\n",
    "\n",
    "    # Create the request body as a dictionary from the DataFrame\n",
    "    request_body = data.to_dict(orient=\"list\")\n",
    "\n",
    "    response = requests.post(url, json=request_body, auth=(username, password))\n",
    "    \n",
    "    if response.status_code == 200:\n",
    "        return response.json()\n",
    "    elif response.status_code == 400:\n",
    "        print(response.json()[\"detail\"])\n",
    "    else:\n",
    "        print(\"Error occurred while querying the API.\")\n",
    "        return response"
   ]
  },
  {
   "cell_type": "code",
   "execution_count": 5,
   "metadata": {},
   "outputs": [],
   "source": [
    "data = df_gu.reset_index()[[\"LIB_SICORE\", \"AUTO\", \"NAT_SICORE\", \"SURF\", \"EVT_SICORE\", \"APE_SICORE\"]]\n",
    "data.columns = [\"text_description\", \"type_\", \"nature\", \"surface\", \"event\", \"code\"]\n",
    "#data= data.fillna(value=\"\")"
   ]
  },
  {
   "cell_type": "code",
   "execution_count": 6,
   "metadata": {},
   "outputs": [],
   "source": [
    "data.tail(50).to_csv(\"../data/exemple_all.csv\")"
   ]
  },
  {
   "cell_type": "code",
   "execution_count": 5,
   "metadata": {},
   "outputs": [
    {
     "data": {
      "text/html": [
       "<div>\n",
       "<style scoped>\n",
       "    .dataframe tbody tr th:only-of-type {\n",
       "        vertical-align: middle;\n",
       "    }\n",
       "\n",
       "    .dataframe tbody tr th {\n",
       "        vertical-align: top;\n",
       "    }\n",
       "\n",
       "    .dataframe thead th {\n",
       "        text-align: right;\n",
       "    }\n",
       "</style>\n",
       "<table border=\"1\" class=\"dataframe\">\n",
       "  <thead>\n",
       "    <tr style=\"text-align: right;\">\n",
       "      <th></th>\n",
       "      <th>Unnamed: 0</th>\n",
       "      <th>text_description</th>\n",
       "      <th>type_</th>\n",
       "      <th>nature</th>\n",
       "      <th>surface</th>\n",
       "      <th>event</th>\n",
       "      <th>code</th>\n",
       "    </tr>\n",
       "  </thead>\n",
       "  <tbody>\n",
       "    <tr>\n",
       "      <th>0</th>\n",
       "      <td>0</td>\n",
       "      <td>Nettoyage tout type de locaux</td>\n",
       "      <td>X</td>\n",
       "      <td>NaN</td>\n",
       "      <td>NaN</td>\n",
       "      <td>01P</td>\n",
       "      <td>8121Z</td>\n",
       "    </tr>\n",
       "    <tr>\n",
       "      <th>1</th>\n",
       "      <td>1</td>\n",
       "      <td>SOUDURE</td>\n",
       "      <td>M</td>\n",
       "      <td>99.0</td>\n",
       "      <td>NaN</td>\n",
       "      <td>01P</td>\n",
       "      <td>3320A</td>\n",
       "    </tr>\n",
       "    <tr>\n",
       "      <th>2</th>\n",
       "      <td>2</td>\n",
       "      <td>Retouche et confection de rideaux, stores bate...</td>\n",
       "      <td>M</td>\n",
       "      <td>4.0</td>\n",
       "      <td>NaN</td>\n",
       "      <td>01P</td>\n",
       "      <td>1392Z</td>\n",
       "    </tr>\n",
       "    <tr>\n",
       "      <th>3</th>\n",
       "      <td>3</td>\n",
       "      <td>prestations de services, déménagements</td>\n",
       "      <td>M</td>\n",
       "      <td>99.0</td>\n",
       "      <td>NaN</td>\n",
       "      <td>01P</td>\n",
       "      <td>4942Z</td>\n",
       "    </tr>\n",
       "    <tr>\n",
       "      <th>4</th>\n",
       "      <td>4</td>\n",
       "      <td>Livraison uber eats</td>\n",
       "      <td>C</td>\n",
       "      <td>99.0</td>\n",
       "      <td>NaN</td>\n",
       "      <td>01P</td>\n",
       "      <td>5320Z</td>\n",
       "    </tr>\n",
       "    <tr>\n",
       "      <th>...</th>\n",
       "      <td>...</td>\n",
       "      <td>...</td>\n",
       "      <td>...</td>\n",
       "      <td>...</td>\n",
       "      <td>...</td>\n",
       "      <td>...</td>\n",
       "      <td>...</td>\n",
       "    </tr>\n",
       "    <tr>\n",
       "      <th>95</th>\n",
       "      <td>95</td>\n",
       "      <td>Création vêtements, accessoires et décoration</td>\n",
       "      <td>C</td>\n",
       "      <td>99.0</td>\n",
       "      <td>NaN</td>\n",
       "      <td>01P</td>\n",
       "      <td>7410Z</td>\n",
       "    </tr>\n",
       "    <tr>\n",
       "      <th>96</th>\n",
       "      <td>96</td>\n",
       "      <td>Location chambres d'hôtes assurée sur le lieu ...</td>\n",
       "      <td>C</td>\n",
       "      <td>99.0</td>\n",
       "      <td>NaN</td>\n",
       "      <td>01P</td>\n",
       "      <td>5520Z</td>\n",
       "    </tr>\n",
       "    <tr>\n",
       "      <th>97</th>\n",
       "      <td>97</td>\n",
       "      <td>réparation cycle</td>\n",
       "      <td>M</td>\n",
       "      <td>99.0</td>\n",
       "      <td>NaN</td>\n",
       "      <td>01P</td>\n",
       "      <td>9529Z</td>\n",
       "    </tr>\n",
       "    <tr>\n",
       "      <th>98</th>\n",
       "      <td>98</td>\n",
       "      <td>Hypnose et techniques énergétiques / Vibratoir...</td>\n",
       "      <td>L</td>\n",
       "      <td>NaN</td>\n",
       "      <td>NaN</td>\n",
       "      <td>01P</td>\n",
       "      <td>9609Z</td>\n",
       "    </tr>\n",
       "    <tr>\n",
       "      <th>99</th>\n",
       "      <td>99</td>\n",
       "      <td>réalisation de formation dans des écoles d'ing...</td>\n",
       "      <td>X</td>\n",
       "      <td>NaN</td>\n",
       "      <td>NaN</td>\n",
       "      <td>01P</td>\n",
       "      <td>8542Z</td>\n",
       "    </tr>\n",
       "  </tbody>\n",
       "</table>\n",
       "<p>100 rows × 7 columns</p>\n",
       "</div>"
      ],
      "text/plain": [
       "    Unnamed: 0                                   text_description type_   \n",
       "0            0                      Nettoyage tout type de locaux     X  \\\n",
       "1            1                                            SOUDURE     M   \n",
       "2            2  Retouche et confection de rideaux, stores bate...     M   \n",
       "3            3             prestations de services, déménagements     M   \n",
       "4            4                                Livraison uber eats     C   \n",
       "..         ...                                                ...   ...   \n",
       "95          95      Création vêtements, accessoires et décoration     C   \n",
       "96          96  Location chambres d'hôtes assurée sur le lieu ...     C   \n",
       "97          97                                   réparation cycle     M   \n",
       "98          98  Hypnose et techniques énergétiques / Vibratoir...     L   \n",
       "99          99  réalisation de formation dans des écoles d'ing...     X   \n",
       "\n",
       "    nature  surface event   code  \n",
       "0      NaN      NaN   01P  8121Z  \n",
       "1     99.0      NaN   01P  3320A  \n",
       "2      4.0      NaN   01P  1392Z  \n",
       "3     99.0      NaN   01P  4942Z  \n",
       "4     99.0      NaN   01P  5320Z  \n",
       "..     ...      ...   ...    ...  \n",
       "95    99.0      NaN   01P  7410Z  \n",
       "96    99.0      NaN   01P  5520Z  \n",
       "97    99.0      NaN   01P  9529Z  \n",
       "98     NaN      NaN   01P  9609Z  \n",
       "99     NaN      NaN   01P  8542Z  \n",
       "\n",
       "[100 rows x 7 columns]"
      ]
     },
     "execution_count": 5,
     "metadata": {},
     "output_type": "execute_result"
    }
   ],
   "source": [
    "data[:100]"
   ]
  },
  {
   "cell_type": "code",
   "execution_count": 11,
   "metadata": {},
   "outputs": [
    {
     "ename": "InvalidJSONError",
     "evalue": "Out of range float values are not JSON compliant",
     "output_type": "error",
     "traceback": [
      "\u001b[0;31m---------------------------------------------------------------------------\u001b[0m",
      "\u001b[0;31mValueError\u001b[0m                                Traceback (most recent call last)",
      "File \u001b[0;32m/opt/mamba/lib/python3.10/site-packages/requests/models.py:511\u001b[0m, in \u001b[0;36mPreparedRequest.prepare_body\u001b[0;34m(self, data, files, json)\u001b[0m\n\u001b[1;32m    510\u001b[0m \u001b[39mtry\u001b[39;00m:\n\u001b[0;32m--> 511\u001b[0m     body \u001b[39m=\u001b[39m complexjson\u001b[39m.\u001b[39;49mdumps(json, allow_nan\u001b[39m=\u001b[39;49m\u001b[39mFalse\u001b[39;49;00m)\n\u001b[1;32m    512\u001b[0m \u001b[39mexcept\u001b[39;00m \u001b[39mValueError\u001b[39;00m \u001b[39mas\u001b[39;00m ve:\n",
      "File \u001b[0;32m/opt/mamba/lib/python3.10/json/__init__.py:238\u001b[0m, in \u001b[0;36mdumps\u001b[0;34m(obj, skipkeys, ensure_ascii, check_circular, allow_nan, cls, indent, separators, default, sort_keys, **kw)\u001b[0m\n\u001b[1;32m    233\u001b[0m     \u001b[39mcls\u001b[39m \u001b[39m=\u001b[39m JSONEncoder\n\u001b[1;32m    234\u001b[0m \u001b[39mreturn\u001b[39;00m \u001b[39mcls\u001b[39;49m(\n\u001b[1;32m    235\u001b[0m     skipkeys\u001b[39m=\u001b[39;49mskipkeys, ensure_ascii\u001b[39m=\u001b[39;49mensure_ascii,\n\u001b[1;32m    236\u001b[0m     check_circular\u001b[39m=\u001b[39;49mcheck_circular, allow_nan\u001b[39m=\u001b[39;49mallow_nan, indent\u001b[39m=\u001b[39;49mindent,\n\u001b[1;32m    237\u001b[0m     separators\u001b[39m=\u001b[39;49mseparators, default\u001b[39m=\u001b[39;49mdefault, sort_keys\u001b[39m=\u001b[39;49msort_keys,\n\u001b[0;32m--> 238\u001b[0m     \u001b[39m*\u001b[39;49m\u001b[39m*\u001b[39;49mkw)\u001b[39m.\u001b[39;49mencode(obj)\n",
      "File \u001b[0;32m/opt/mamba/lib/python3.10/json/encoder.py:199\u001b[0m, in \u001b[0;36mJSONEncoder.encode\u001b[0;34m(self, o)\u001b[0m\n\u001b[1;32m    196\u001b[0m \u001b[39m# This doesn't pass the iterator directly to ''.join() because the\u001b[39;00m\n\u001b[1;32m    197\u001b[0m \u001b[39m# exceptions aren't as detailed.  The list call should be roughly\u001b[39;00m\n\u001b[1;32m    198\u001b[0m \u001b[39m# equivalent to the PySequence_Fast that ''.join() would do.\u001b[39;00m\n\u001b[0;32m--> 199\u001b[0m chunks \u001b[39m=\u001b[39m \u001b[39mself\u001b[39;49m\u001b[39m.\u001b[39;49miterencode(o, _one_shot\u001b[39m=\u001b[39;49m\u001b[39mTrue\u001b[39;49;00m)\n\u001b[1;32m    200\u001b[0m \u001b[39mif\u001b[39;00m \u001b[39mnot\u001b[39;00m \u001b[39misinstance\u001b[39m(chunks, (\u001b[39mlist\u001b[39m, \u001b[39mtuple\u001b[39m)):\n",
      "File \u001b[0;32m/opt/mamba/lib/python3.10/json/encoder.py:257\u001b[0m, in \u001b[0;36mJSONEncoder.iterencode\u001b[0;34m(self, o, _one_shot)\u001b[0m\n\u001b[1;32m    253\u001b[0m     _iterencode \u001b[39m=\u001b[39m _make_iterencode(\n\u001b[1;32m    254\u001b[0m         markers, \u001b[39mself\u001b[39m\u001b[39m.\u001b[39mdefault, _encoder, \u001b[39mself\u001b[39m\u001b[39m.\u001b[39mindent, floatstr,\n\u001b[1;32m    255\u001b[0m         \u001b[39mself\u001b[39m\u001b[39m.\u001b[39mkey_separator, \u001b[39mself\u001b[39m\u001b[39m.\u001b[39mitem_separator, \u001b[39mself\u001b[39m\u001b[39m.\u001b[39msort_keys,\n\u001b[1;32m    256\u001b[0m         \u001b[39mself\u001b[39m\u001b[39m.\u001b[39mskipkeys, _one_shot)\n\u001b[0;32m--> 257\u001b[0m \u001b[39mreturn\u001b[39;00m _iterencode(o, \u001b[39m0\u001b[39;49m)\n",
      "\u001b[0;31mValueError\u001b[0m: Out of range float values are not JSON compliant",
      "\nDuring handling of the above exception, another exception occurred:\n",
      "\u001b[0;31mInvalidJSONError\u001b[0m                          Traceback (most recent call last)",
      "Cell \u001b[0;32mIn[11], line 1\u001b[0m\n\u001b[0;32m----> 1\u001b[0m x\u001b[39m=\u001b[39mquery_batch_api(\u001b[39m\"\u001b[39;49m\u001b[39mcodification-ape\u001b[39;49m\u001b[39m\"\u001b[39;49m,\u001b[39m\"\u001b[39;49m\u001b[39mcodification-sirene4\u001b[39;49m\u001b[39m\"\u001b[39;49m, df)\n",
      "Cell \u001b[0;32mIn[4], line 7\u001b[0m, in \u001b[0;36mquery_batch_api\u001b[0;34m(username, password, data)\u001b[0m\n\u001b[1;32m      4\u001b[0m \u001b[39m# Create the request body as a dictionary from the DataFrame\u001b[39;00m\n\u001b[1;32m      5\u001b[0m request_body \u001b[39m=\u001b[39m data\u001b[39m.\u001b[39mto_dict(orient\u001b[39m=\u001b[39m\u001b[39m\"\u001b[39m\u001b[39mlist\u001b[39m\u001b[39m\"\u001b[39m)\n\u001b[0;32m----> 7\u001b[0m response \u001b[39m=\u001b[39m requests\u001b[39m.\u001b[39;49mpost(url, json\u001b[39m=\u001b[39;49mrequest_body, auth\u001b[39m=\u001b[39;49m(username, password))\n\u001b[1;32m      9\u001b[0m \u001b[39mif\u001b[39;00m response\u001b[39m.\u001b[39mstatus_code \u001b[39m==\u001b[39m \u001b[39m200\u001b[39m:\n\u001b[1;32m     10\u001b[0m     \u001b[39mreturn\u001b[39;00m response\u001b[39m.\u001b[39mjson()\n",
      "File \u001b[0;32m/opt/mamba/lib/python3.10/site-packages/requests/api.py:115\u001b[0m, in \u001b[0;36mpost\u001b[0;34m(url, data, json, **kwargs)\u001b[0m\n\u001b[1;32m    103\u001b[0m \u001b[39mdef\u001b[39;00m \u001b[39mpost\u001b[39m(url, data\u001b[39m=\u001b[39m\u001b[39mNone\u001b[39;00m, json\u001b[39m=\u001b[39m\u001b[39mNone\u001b[39;00m, \u001b[39m*\u001b[39m\u001b[39m*\u001b[39mkwargs):\n\u001b[1;32m    104\u001b[0m \u001b[39m    \u001b[39m\u001b[39mr\u001b[39m\u001b[39m\"\"\"Sends a POST request.\u001b[39;00m\n\u001b[1;32m    105\u001b[0m \n\u001b[1;32m    106\u001b[0m \u001b[39m    :param url: URL for the new :class:`Request` object.\u001b[39;00m\n\u001b[0;32m   (...)\u001b[0m\n\u001b[1;32m    112\u001b[0m \u001b[39m    :rtype: requests.Response\u001b[39;00m\n\u001b[1;32m    113\u001b[0m \u001b[39m    \"\"\"\u001b[39;00m\n\u001b[0;32m--> 115\u001b[0m     \u001b[39mreturn\u001b[39;00m request(\u001b[39m\"\u001b[39;49m\u001b[39mpost\u001b[39;49m\u001b[39m\"\u001b[39;49m, url, data\u001b[39m=\u001b[39;49mdata, json\u001b[39m=\u001b[39;49mjson, \u001b[39m*\u001b[39;49m\u001b[39m*\u001b[39;49mkwargs)\n",
      "File \u001b[0;32m/opt/mamba/lib/python3.10/site-packages/requests/api.py:59\u001b[0m, in \u001b[0;36mrequest\u001b[0;34m(method, url, **kwargs)\u001b[0m\n\u001b[1;32m     55\u001b[0m \u001b[39m# By using the 'with' statement we are sure the session is closed, thus we\u001b[39;00m\n\u001b[1;32m     56\u001b[0m \u001b[39m# avoid leaving sockets open which can trigger a ResourceWarning in some\u001b[39;00m\n\u001b[1;32m     57\u001b[0m \u001b[39m# cases, and look like a memory leak in others.\u001b[39;00m\n\u001b[1;32m     58\u001b[0m \u001b[39mwith\u001b[39;00m sessions\u001b[39m.\u001b[39mSession() \u001b[39mas\u001b[39;00m session:\n\u001b[0;32m---> 59\u001b[0m     \u001b[39mreturn\u001b[39;00m session\u001b[39m.\u001b[39;49mrequest(method\u001b[39m=\u001b[39;49mmethod, url\u001b[39m=\u001b[39;49murl, \u001b[39m*\u001b[39;49m\u001b[39m*\u001b[39;49mkwargs)\n",
      "File \u001b[0;32m/opt/mamba/lib/python3.10/site-packages/requests/sessions.py:573\u001b[0m, in \u001b[0;36mSession.request\u001b[0;34m(self, method, url, params, data, headers, cookies, files, auth, timeout, allow_redirects, proxies, hooks, stream, verify, cert, json)\u001b[0m\n\u001b[1;32m    560\u001b[0m \u001b[39m# Create the Request.\u001b[39;00m\n\u001b[1;32m    561\u001b[0m req \u001b[39m=\u001b[39m Request(\n\u001b[1;32m    562\u001b[0m     method\u001b[39m=\u001b[39mmethod\u001b[39m.\u001b[39mupper(),\n\u001b[1;32m    563\u001b[0m     url\u001b[39m=\u001b[39murl,\n\u001b[0;32m   (...)\u001b[0m\n\u001b[1;32m    571\u001b[0m     hooks\u001b[39m=\u001b[39mhooks,\n\u001b[1;32m    572\u001b[0m )\n\u001b[0;32m--> 573\u001b[0m prep \u001b[39m=\u001b[39m \u001b[39mself\u001b[39;49m\u001b[39m.\u001b[39;49mprepare_request(req)\n\u001b[1;32m    575\u001b[0m proxies \u001b[39m=\u001b[39m proxies \u001b[39mor\u001b[39;00m {}\n\u001b[1;32m    577\u001b[0m settings \u001b[39m=\u001b[39m \u001b[39mself\u001b[39m\u001b[39m.\u001b[39mmerge_environment_settings(\n\u001b[1;32m    578\u001b[0m     prep\u001b[39m.\u001b[39murl, proxies, stream, verify, cert\n\u001b[1;32m    579\u001b[0m )\n",
      "File \u001b[0;32m/opt/mamba/lib/python3.10/site-packages/requests/sessions.py:484\u001b[0m, in \u001b[0;36mSession.prepare_request\u001b[0;34m(self, request)\u001b[0m\n\u001b[1;32m    481\u001b[0m     auth \u001b[39m=\u001b[39m get_netrc_auth(request\u001b[39m.\u001b[39murl)\n\u001b[1;32m    483\u001b[0m p \u001b[39m=\u001b[39m PreparedRequest()\n\u001b[0;32m--> 484\u001b[0m p\u001b[39m.\u001b[39;49mprepare(\n\u001b[1;32m    485\u001b[0m     method\u001b[39m=\u001b[39;49mrequest\u001b[39m.\u001b[39;49mmethod\u001b[39m.\u001b[39;49mupper(),\n\u001b[1;32m    486\u001b[0m     url\u001b[39m=\u001b[39;49mrequest\u001b[39m.\u001b[39;49murl,\n\u001b[1;32m    487\u001b[0m     files\u001b[39m=\u001b[39;49mrequest\u001b[39m.\u001b[39;49mfiles,\n\u001b[1;32m    488\u001b[0m     data\u001b[39m=\u001b[39;49mrequest\u001b[39m.\u001b[39;49mdata,\n\u001b[1;32m    489\u001b[0m     json\u001b[39m=\u001b[39;49mrequest\u001b[39m.\u001b[39;49mjson,\n\u001b[1;32m    490\u001b[0m     headers\u001b[39m=\u001b[39;49mmerge_setting(\n\u001b[1;32m    491\u001b[0m         request\u001b[39m.\u001b[39;49mheaders, \u001b[39mself\u001b[39;49m\u001b[39m.\u001b[39;49mheaders, dict_class\u001b[39m=\u001b[39;49mCaseInsensitiveDict\n\u001b[1;32m    492\u001b[0m     ),\n\u001b[1;32m    493\u001b[0m     params\u001b[39m=\u001b[39;49mmerge_setting(request\u001b[39m.\u001b[39;49mparams, \u001b[39mself\u001b[39;49m\u001b[39m.\u001b[39;49mparams),\n\u001b[1;32m    494\u001b[0m     auth\u001b[39m=\u001b[39;49mmerge_setting(auth, \u001b[39mself\u001b[39;49m\u001b[39m.\u001b[39;49mauth),\n\u001b[1;32m    495\u001b[0m     cookies\u001b[39m=\u001b[39;49mmerged_cookies,\n\u001b[1;32m    496\u001b[0m     hooks\u001b[39m=\u001b[39;49mmerge_hooks(request\u001b[39m.\u001b[39;49mhooks, \u001b[39mself\u001b[39;49m\u001b[39m.\u001b[39;49mhooks),\n\u001b[1;32m    497\u001b[0m )\n\u001b[1;32m    498\u001b[0m \u001b[39mreturn\u001b[39;00m p\n",
      "File \u001b[0;32m/opt/mamba/lib/python3.10/site-packages/requests/models.py:371\u001b[0m, in \u001b[0;36mPreparedRequest.prepare\u001b[0;34m(self, method, url, headers, files, data, params, auth, cookies, hooks, json)\u001b[0m\n\u001b[1;32m    369\u001b[0m \u001b[39mself\u001b[39m\u001b[39m.\u001b[39mprepare_headers(headers)\n\u001b[1;32m    370\u001b[0m \u001b[39mself\u001b[39m\u001b[39m.\u001b[39mprepare_cookies(cookies)\n\u001b[0;32m--> 371\u001b[0m \u001b[39mself\u001b[39;49m\u001b[39m.\u001b[39;49mprepare_body(data, files, json)\n\u001b[1;32m    372\u001b[0m \u001b[39mself\u001b[39m\u001b[39m.\u001b[39mprepare_auth(auth, url)\n\u001b[1;32m    374\u001b[0m \u001b[39m# Note that prepare_auth must be last to enable authentication schemes\u001b[39;00m\n\u001b[1;32m    375\u001b[0m \u001b[39m# such as OAuth to work on a fully prepared request.\u001b[39;00m\n\u001b[1;32m    376\u001b[0m \n\u001b[1;32m    377\u001b[0m \u001b[39m# This MUST go after prepare_auth. Authenticators could add a hook\u001b[39;00m\n",
      "File \u001b[0;32m/opt/mamba/lib/python3.10/site-packages/requests/models.py:513\u001b[0m, in \u001b[0;36mPreparedRequest.prepare_body\u001b[0;34m(self, data, files, json)\u001b[0m\n\u001b[1;32m    511\u001b[0m     body \u001b[39m=\u001b[39m complexjson\u001b[39m.\u001b[39mdumps(json, allow_nan\u001b[39m=\u001b[39m\u001b[39mFalse\u001b[39;00m)\n\u001b[1;32m    512\u001b[0m \u001b[39mexcept\u001b[39;00m \u001b[39mValueError\u001b[39;00m \u001b[39mas\u001b[39;00m ve:\n\u001b[0;32m--> 513\u001b[0m     \u001b[39mraise\u001b[39;00m InvalidJSONError(ve, request\u001b[39m=\u001b[39m\u001b[39mself\u001b[39m)\n\u001b[1;32m    515\u001b[0m \u001b[39mif\u001b[39;00m \u001b[39mnot\u001b[39;00m \u001b[39misinstance\u001b[39m(body, \u001b[39mbytes\u001b[39m):\n\u001b[1;32m    516\u001b[0m     body \u001b[39m=\u001b[39m body\u001b[39m.\u001b[39mencode(\u001b[39m\"\u001b[39m\u001b[39mutf-8\u001b[39m\u001b[39m\"\u001b[39m)\n",
      "\u001b[0;31mInvalidJSONError\u001b[0m: Out of range float values are not JSON compliant"
     ]
    }
   ],
   "source": [
    "x=query_batch_api(\"codification-ape\",\"codification-sirene4\", df)"
   ]
  },
  {
   "cell_type": "code",
   "execution_count": 79,
   "metadata": {},
   "outputs": [
    {
     "data": {
      "text/html": [
       "<div>\n",
       "<style scoped>\n",
       "    .dataframe tbody tr th:only-of-type {\n",
       "        vertical-align: middle;\n",
       "    }\n",
       "\n",
       "    .dataframe tbody tr th {\n",
       "        vertical-align: top;\n",
       "    }\n",
       "\n",
       "    .dataframe thead th {\n",
       "        text-align: right;\n",
       "    }\n",
       "</style>\n",
       "<table border=\"1\" class=\"dataframe\">\n",
       "  <thead>\n",
       "    <tr style=\"text-align: right;\">\n",
       "      <th></th>\n",
       "      <th>IC</th>\n",
       "      <th>Probability</th>\n",
       "      <th>Prediction</th>\n",
       "      <th>Code</th>\n",
       "      <th>Result</th>\n",
       "    </tr>\n",
       "  </thead>\n",
       "  <tbody>\n",
       "    <tr>\n",
       "      <th>0</th>\n",
       "      <td>0.692652</td>\n",
       "      <td>0.371821</td>\n",
       "      <td>9003A</td>\n",
       "      <td>5912Z</td>\n",
       "      <td>False</td>\n",
       "    </tr>\n",
       "    <tr>\n",
       "      <th>1</th>\n",
       "      <td>1.000010</td>\n",
       "      <td>0.997449</td>\n",
       "      <td>4321A</td>\n",
       "      <td>4321A</td>\n",
       "      <td>True</td>\n",
       "    </tr>\n",
       "    <tr>\n",
       "      <th>2</th>\n",
       "      <td>0.754925</td>\n",
       "      <td>0.691200</td>\n",
       "      <td>8211Z</td>\n",
       "      <td>8211Z</td>\n",
       "      <td>True</td>\n",
       "    </tr>\n",
       "    <tr>\n",
       "      <th>3</th>\n",
       "      <td>0.997120</td>\n",
       "      <td>0.728169</td>\n",
       "      <td>9609Z</td>\n",
       "      <td>9609Z</td>\n",
       "      <td>True</td>\n",
       "    </tr>\n",
       "    <tr>\n",
       "      <th>4</th>\n",
       "      <td>0.994455</td>\n",
       "      <td>0.926898</td>\n",
       "      <td>6810Z</td>\n",
       "      <td>6810Z</td>\n",
       "      <td>True</td>\n",
       "    </tr>\n",
       "    <tr>\n",
       "      <th>...</th>\n",
       "      <td>...</td>\n",
       "      <td>...</td>\n",
       "      <td>...</td>\n",
       "      <td>...</td>\n",
       "      <td>...</td>\n",
       "    </tr>\n",
       "    <tr>\n",
       "      <th>15455</th>\n",
       "      <td>0.993522</td>\n",
       "      <td>0.989313</td>\n",
       "      <td>9602B</td>\n",
       "      <td>9602B</td>\n",
       "      <td>True</td>\n",
       "    </tr>\n",
       "    <tr>\n",
       "      <th>15456</th>\n",
       "      <td>0.945005</td>\n",
       "      <td>0.873403</td>\n",
       "      <td>8121Z</td>\n",
       "      <td>8121Z</td>\n",
       "      <td>True</td>\n",
       "    </tr>\n",
       "    <tr>\n",
       "      <th>15457</th>\n",
       "      <td>0.999457</td>\n",
       "      <td>0.999447</td>\n",
       "      <td>6622Z</td>\n",
       "      <td>6622Z</td>\n",
       "      <td>True</td>\n",
       "    </tr>\n",
       "    <tr>\n",
       "      <th>15458</th>\n",
       "      <td>1.000010</td>\n",
       "      <td>0.999527</td>\n",
       "      <td>6831Z</td>\n",
       "      <td>6831Z</td>\n",
       "      <td>True</td>\n",
       "    </tr>\n",
       "    <tr>\n",
       "      <th>15459</th>\n",
       "      <td>0.938134</td>\n",
       "      <td>0.848031</td>\n",
       "      <td>4120A</td>\n",
       "      <td>4120A</td>\n",
       "      <td>True</td>\n",
       "    </tr>\n",
       "  </tbody>\n",
       "</table>\n",
       "<p>15460 rows × 5 columns</p>\n",
       "</div>"
      ],
      "text/plain": [
       "             IC  Probability Prediction   Code  Result\n",
       "0      0.692652     0.371821      9003A  5912Z   False\n",
       "1      1.000010     0.997449      4321A  4321A    True\n",
       "2      0.754925     0.691200      8211Z  8211Z    True\n",
       "3      0.997120     0.728169      9609Z  9609Z    True\n",
       "4      0.994455     0.926898      6810Z  6810Z    True\n",
       "...         ...          ...        ...    ...     ...\n",
       "15455  0.993522     0.989313      9602B  9602B    True\n",
       "15456  0.945005     0.873403      8121Z  8121Z    True\n",
       "15457  0.999457     0.999447      6622Z  6622Z    True\n",
       "15458  1.000010     0.999527      6831Z  6831Z    True\n",
       "15459  0.938134     0.848031      4120A  4120A    True\n",
       "\n",
       "[15460 rows x 5 columns]"
      ]
     },
     "execution_count": 79,
     "metadata": {},
     "output_type": "execute_result"
    }
   ],
   "source": [
    "pd.DataFrame(x)"
   ]
  },
  {
   "cell_type": "code",
   "execution_count": 10,
   "metadata": {},
   "outputs": [],
   "source": [
    "import requests\n",
    "import pandas as pd\n",
    "from urllib.parse import urlencode\n",
    "import unidecode"
   ]
  },
  {
   "cell_type": "code",
   "execution_count": 196,
   "metadata": {},
   "outputs": [],
   "source": [
    "data = pd.read_csv(\"../data/Jeu_codif_APE_S4_20230606.csv\")\n",
    "data['activ_nat_et'] = data['activ_nat_et'].apply(lambda x: \"{:02d}\".format(int(x)) if pd.notnull(x) else np.nan)\n",
    "data = data[[\"activ_pr_lib_et\", \"liasse_type\", \"activ_nat_et\", \"activ_surf_et\", \"evenement_type\", \"apet_finale\"]]\n",
    "data.columns = [\"text_description\" , \"type_\", \"nature\",\"surface\", \"event\",\"code\"]\n",
    "data = data.dropna(subset=[\"text_description\"])\n",
    "data['nature'] = data['nature'].apply(lambda x: \"{:02d}\".format(int(x)) if pd.notnull(x) else \"\")\n",
    "data['surface'] = data['surface'].apply(lambda x: \"\" if pd.isnull(x) else (\"1\" if x < 121 else (\"2\" if 121 <= x <= 400 else (\"3\" if 401 <= x <= 2500 else \"4\"))))\n",
    "#df.to_csv(\"Jeu_codif_APE_S4_20230606_processed.csv\")\n"
   ]
  },
  {
   "cell_type": "code",
   "execution_count": 197,
   "metadata": {},
   "outputs": [],
   "source": [
    "idx = get_index_nan_after_prepro(data, \"text_description\")"
   ]
  },
  {
   "cell_type": "code",
   "execution_count": 198,
   "metadata": {},
   "outputs": [
    {
     "data": {
      "text/plain": [
       "(430467, 6)"
      ]
     },
     "execution_count": 198,
     "metadata": {},
     "output_type": "execute_result"
    }
   ],
   "source": [
    "data.shape"
   ]
  },
  {
   "cell_type": "code",
   "execution_count": 204,
   "metadata": {},
   "outputs": [
    {
     "data": {
      "text/html": [
       "<div>\n",
       "<style scoped>\n",
       "    .dataframe tbody tr th:only-of-type {\n",
       "        vertical-align: middle;\n",
       "    }\n",
       "\n",
       "    .dataframe tbody tr th {\n",
       "        vertical-align: top;\n",
       "    }\n",
       "\n",
       "    .dataframe thead th {\n",
       "        text-align: right;\n",
       "    }\n",
       "</style>\n",
       "<table border=\"1\" class=\"dataframe\">\n",
       "  <thead>\n",
       "    <tr style=\"text-align: right;\">\n",
       "      <th></th>\n",
       "      <th>text_description</th>\n",
       "      <th>type_</th>\n",
       "      <th>nature</th>\n",
       "      <th>surface</th>\n",
       "      <th>event</th>\n",
       "      <th>code</th>\n",
       "    </tr>\n",
       "  </thead>\n",
       "  <tbody>\n",
       "    <tr>\n",
       "      <th>423828</th>\n",
       "      <td>conseil aux entreprises</td>\n",
       "      <td>X</td>\n",
       "      <td></td>\n",
       "      <td></td>\n",
       "      <td>01P</td>\n",
       "      <td>7022Z</td>\n",
       "    </tr>\n",
       "    <tr>\n",
       "      <th>423829</th>\n",
       "      <td>conseil en marketing communication</td>\n",
       "      <td>C</td>\n",
       "      <td>99</td>\n",
       "      <td></td>\n",
       "      <td>01P</td>\n",
       "      <td>7022Z</td>\n",
       "    </tr>\n",
       "    <tr>\n",
       "      <th>423830</th>\n",
       "      <td>ape</td>\n",
       "      <td>R</td>\n",
       "      <td></td>\n",
       "      <td></td>\n",
       "      <td>01P</td>\n",
       "      <td>6831Z</td>\n",
       "    </tr>\n",
       "    <tr>\n",
       "      <th>423831</th>\n",
       "      <td>montage demontage de stands evenementiels</td>\n",
       "      <td>M</td>\n",
       "      <td>14</td>\n",
       "      <td></td>\n",
       "      <td>01P</td>\n",
       "      <td>4399B</td>\n",
       "    </tr>\n",
       "    <tr>\n",
       "      <th>423832</th>\n",
       "      <td>animation musical evenements</td>\n",
       "      <td>X</td>\n",
       "      <td></td>\n",
       "      <td></td>\n",
       "      <td>01P</td>\n",
       "      <td>9329Z</td>\n",
       "    </tr>\n",
       "  </tbody>\n",
       "</table>\n",
       "</div>"
      ],
      "text/plain": [
       "                                 text_description type_ nature surface event   \n",
       "423828                    conseil aux entreprises     X                  01P  \\\n",
       "423829         conseil en marketing communication     C     99           01P   \n",
       "423830                                        ape     R                  01P   \n",
       "423831  montage demontage de stands evenementiels     M     14           01P   \n",
       "423832               animation musical evenements     X                  01P   \n",
       "\n",
       "         code  \n",
       "423828  7022Z  \n",
       "423829  7022Z  \n",
       "423830  6831Z  \n",
       "423831  4399B  \n",
       "423832  9329Z  "
      ]
     },
     "execution_count": 204,
     "metadata": {},
     "output_type": "execute_result"
    }
   ],
   "source": [
    "data.iloc[414280:414285]"
   ]
  },
  {
   "cell_type": "code",
   "execution_count": null,
   "metadata": {},
   "outputs": [],
   "source": [
    "get_index_nan_after_prepro(data, \"text_description\")"
   ]
  },
  {
   "cell_type": "code",
   "execution_count": 207,
   "metadata": {},
   "outputs": [
    {
     "data": {
      "text/plain": [
       "Index([423830], dtype='int64')"
      ]
     },
     "execution_count": 207,
     "metadata": {},
     "output_type": "execute_result"
    }
   ],
   "source": [
    "get_index_nan_after_prepro(data.iloc[414280:414285], \"text_description\")"
   ]
  },
  {
   "cell_type": "code",
   "execution_count": 199,
   "metadata": {},
   "outputs": [
    {
     "data": {
      "text/plain": [
       "(430384, 6)"
      ]
     },
     "execution_count": 199,
     "metadata": {},
     "output_type": "execute_result"
    }
   ],
   "source": [
    "data = data.drop(idx)\n",
    "data.shape"
   ]
  },
  {
   "cell_type": "code",
   "execution_count": 192,
   "metadata": {},
   "outputs": [
    {
     "name": "stdout",
     "output_type": "stream",
     "text": [
      "Error occurred while querying the API.\n"
     ]
    },
    {
     "data": {
      "text/plain": [
       "<Response [500]>"
      ]
     },
     "execution_count": 192,
     "metadata": {},
     "output_type": "execute_result"
    }
   ],
   "source": [
    "url = \"http://0.0.0.0:5000/evaluation\"\n",
    "#query_batch_api(url, \"codification-ape\",\"codification-sirene4\", data.head(10000))\n",
    "query_batch_api(url, \"toto\",\"toto\",data.iloc[414280:41428])"
   ]
  },
  {
   "cell_type": "code",
   "execution_count": 164,
   "metadata": {},
   "outputs": [
    {
     "data": {
      "text/plain": [
       "array(['SANS ACTIVITE', 'Siège Social', 'APE 4932Z', 'Idem siège social',\n",
       "       'siège social', 'Siège social', 'VOIR OBJET SOCIAL',\n",
       "       'SIEGE SOCIAL', 'IDEM', 'code NAF : 96.09.19',\n",
       "       'idem activités principales.', 'xxx', 'sans activité', '.',\n",
       "       'idem activités principales', 'Voir objet social', '6831Z',\n",
       "       'Idem activités principales', 'idem siège social', '53.20Z', 'T3P',\n",
       "       '07', 'V.D.I.', '88.99.19', 'voir objet social', 'code APE 8129B',\n",
       "       '7021Z', 'Idem', 'idem', '///', 'Cf statuts',\n",
       "       'Idem activités principales.', 'siege social',\n",
       "       'Idem activité principale', '6820A', 'V T C', '4339z', '4312A',\n",
       "       '81.21Z', 'voir objet social annexé', '45.11Z'], dtype=object)"
      ]
     },
     "execution_count": 164,
     "metadata": {},
     "output_type": "execute_result"
    }
   ],
   "source": [
    "pd.unique(data.loc[x.index].text_description)"
   ]
  },
  {
   "cell_type": "code",
   "execution_count": 206,
   "metadata": {},
   "outputs": [],
   "source": [
    "def get_index_nan_after_prepro(dataframe, text_feature):\n",
    "    df = dataframe.copy()\n",
    "    df[text_feature] = df[text_feature].map(unidecode.unidecode)\n",
    "\n",
    "    # On passe tout en minuscule\n",
    "    df[text_feature] = df[text_feature].str.lower()\n",
    "\n",
    "    # define replacement patterns\n",
    "    replacements = {\n",
    "        # Libellé vide de sens fournit par Christine (DOIT ETRE FAIT EN AMONT DU MODELE EN JAVA)\n",
    "        r\"\\bidem\\b|\\bvoir ci dessous\\b|\\[vide\\]|\\bundefined\\b|\\bpas d objet\\b|\\(voir ci dessus\\)|\\(voir extrait siege social\\\\/etablissement principal\\)|\\bcf activite principale\\b|\\bcf activite principale et objet\\b|\\bcf activites de l entreprise\\b|\\bcf activites principales de l entreprise\\b|\\bcf actvites principales\\b|\\bcf k bis\\b|\\bcf le principales activites de l  entreprise\\b|\\bcf le sprincipale activites de l  entreprise\\b|\\bcf le sprincipales activites de l  entreprise\\b|\\bcf les activites principales de l  entreprise\\b|\\bcf les ppales activites de l  entreprise\\b|\\bcf les ppales activites de la ste\\b|\\bcf les principale activites de l  entreprise\\b|\\bcf les principales activites\\b|\\bcf les principales activites de l  entreprise\\b|\\bcf les principales activites de l  entreprises\\b|\\bcf les principales activites ppales de l  entreprise\\b|\\bcf les principales activtes de l  entreprise\\b|\\bcf les principales acttivites de l  entreprise\\b|\\bcf les prinipales activites de l  entreprise\\b|\\bcf lesprincipales activites de l  entreprise\\b|\\bcf objet\\b|\\bcf obs\\b|\\bcf principales activite de l  entreprise\\b|\\bcf principales activites de l  entreprise\\b|cf rubrique \\\"principales activites de l entreprise\\\" idem|cf rubrique n2 ci dessus \\(743b\\)|\\bcf supra\\b|\\bcf ci  dessus\\b|\\bcommerce de detail, idem case 2\\b|\\bextension a: voir ci dessus\\b|\\bid\\b|\\bid principales activites\\b|\\bid principales activites de l  entreprise\\b|\\bidem ci dessus\\b|idem \\( voir principales activites\\)|\\bidem  dessus\\b|\\bidem 1ere page\\b|\\bidem a principales activites de l  entreprise\\b|\\bidem activiet eprincipale\\b|\\bidem activite\\b|\\bidem activite 1ere page\\b|\\bidem activite ci  dessus\\b|\\bidem activite de l  entreprise\\b|\\bidem activite enoncee ci  dessus\\b|\\bidem activite entreprise\\b|\\bidem activite generales\\b|\\bidem activite premiere page\\b|\\bidem activite principale\\b|\\bidem activite princippale\\b|\\bidem activite prinicpale\\b|\\bidem activite sur 1ere page\\b|\\bidem activites ci dessus\\b|\\bidem activites declarees au siege et principal\\b|\\bidem activites enoncees ci dessus\\b|\\bidem activites entreprise\\b|\\bidem activites principales\\b|\\bidem activites principales de l entreprise\\b|\\bidem activites siege\\b|\\bidem activte principale\\b|\\bidem activtie 1ere page\\b|\\bidem au siege\\b|\\bidem au siege social\\b|\\bidem aux principales actiivtes\\b|\\bidem aux principales activites\\b|\\bidem case 13\\b|\\bidem ci dessous\\b|\\bidem ci dessus enoncee\\b|\\bidem cidessus\\b|\\bidem objet\\b|\\bidem premiere page\\b|\\bidem pricincipales activites de l entreprise\\b|\\bidem pricipales activites\\b|\\bidem principale activite\\b|\\bidem principales activite de l entreprise\\b|\\bidem principales activite de l entreprises\\b|\\bidem principales activite l entreprise\\b|\\bidem principales activites\\b|\\bidem principales activites citees ci dessus\\b|\\bidem principales activites de l entreprises\\b|idem principales activites de l entreprise\\(objet\\)|\\bidem principales activites et objet social\\b|\\bidem principales activitse de l entreprise\\b|\\bidem que celle decrite plus haut\\b|\\bidem que ci dessus\\b|\\bidem que l activite decrite plus haut\\b|\\bidem que les activites principales\\b|\\bidem que les activites principales ci dessus\\b|\\bidem que les activitges principales\\b|\\bidem que les principales activites\\b|\\bidem que les principales activites de l entreprise\\b|\\bidem que pour le siege\\b|\\bidem rubrique principales activites de l entreprise\\b|\\bidem siege\\b|idem siege \\+ voir observation|\\bidem siege et ets principal\\b|\\bidem siege social\\b|idem siege, \\(\\+ articles americains\\)|\\bidem societe\\b|\\bidem voir activite principale\\b|\\bidem voir ci dessus\\b|\\bidentique a l objet social indique en case 2 de l imprime m2\\b|\\bidm ci dessus\\b|\\bnon indiquee\\b|\\bnon precise\\b|\\bnon precisee\\b|\\bnon precisees\\b|\\bvoir 1ere page\\b|\\bvoir activite ci dessus\\b|\\bvoir activite principale\\b|\\bvoir activite principale ci dessus\\b|\\bvoir activites principales\\b|\\bvoir cidessus\\b|\\bvoir idem ci dessus\\b|\\bvoir objet social\\b|\\bvoir page 1\\b|\\bvoir page precedente\\b|\\bvoir plus haut\\b|\\bvoir princiale activite\\b|\\bvoir princiales activites\\b|\\bvoir princiapales activites\\b|\\bvoir princiaples activites\\b|\\bvoir principale activite\\b|\\bvoir principales activites\\b|\\bvoir principales activites de l entreprise\\b|\\bvoir principales actvites\\b|\\bvoir principalesactivites\\b|\\bvoir principles activites\\b|\\bvoir rubrique principales activites de l entreprise\\b|\\bvoir sur la 1ere page\\b|\\bvoir dessus\\b|voir: \\\"principales activite de l entreprise\\\"|voir: \\\"principales activites de l entreprises\\\"|voir: \\\"principales activites de l entrprise\\\"|voir: \\\"principales activites en entreprise\\\"|\\bconforme au kbis\\b|\\bsans changement\\b|\\bsans activite\\b|\\bsans acitivite\\b|\\bactivite inchangee\\b|\\bactivites inchangees\\b|\\bsiege social\\b|\\ba definir\\b|\\ba preciser\\b|\\bci dessus\\b|\\bci desus\\b|\\bci desssus\\b|\\bvoir activit principale\\b|\\bidem extrait kbis\\b|\\bn a plus a etre mentionne sur l extrait decret\\b|\\bcf statuts\\b|\\bactivite principale case\\b|\\bactivites principales case\\b|\\bactivite principale\\b|\\bactivites principales\\b|\\bvoir case\\b|\\baucun changement\\b|\\bsans modification\\b|\\bactivite non modifiee\\b|\\bactivite identique\\b|\\bpas de changement\\b|\\bcode\\b|\\bape\\b|\\bnaf\\b|\\binchangee\\b|\\binchnagee\\b|\\bkbis\\b|\\bk bis\\b|\\binchangees\\b|\\bnp\\b|\\binchange\\b|\\bnc\\b|\\bxx\\b|\\bxxx\\b|\\binconnue\\b|\\binconnu\\b|\\bvoir\\b|\\bannexe\\b|\\bmo\\b|\\biem\\b|\\binchanges\\b|\\bactivite demeure\\b|\\bactivite inchangée\\b|\\bcase precedente\\b|\\bidem cadre precedent\\b|\\bactivite demeure\\b|\\bactivite inchangée\\b|\\bnon renseignee\\b|\\bneant\\b|\\bnon renseigne\\b\": \" \",\n",
    "        # supprime hyphen pour les mots comme e-commerce\n",
    "        r\"e-\": \"e\",\n",
    "        # accole le e pour les mots comme e-commerce\n",
    "        r\"\\be\\s\": \" e\",\n",
    "        # On supprime toutes les ponctuations\n",
    "        r\"[^\\w\\s]\": \" \",\n",
    "        # On supprime certains mots sans sens (DOIT ETRE FAIT DANS LE PREPROCESSING EN JAVA)\n",
    "        r\"\\bcode\\b|\\bcadre\\b|\\bape\\b|\\bape[a-z]{1}\\b|\\bnaf\\b|\\binchangee\\b|\\binchnagee\\b|\\bkbis\\b|\\bk bis\\b|\\binchangees\\b|\\bnp\\b|\\binchange\\b|\\bnc\\b|\\bidem\\b|\\bxx\\b|\\bxxx\\b|\\baa\\b|\\baaa\\b|\\bidem cadre precedent\\b|\\bidem case\\b|\\binchanges\\b|\\bmo\\b|\\biem\\b|\\bci dessus\\b|\\bet\\b\": \"\",\n",
    "        # On supprime tous les chiffres\n",
    "        r\"[\\d+]\": \" \",\n",
    "    }\n",
    "\n",
    "    # apply replacements to text_feature column\n",
    "    for pattern, replacement in replacements.items():\n",
    "        df[text_feature] = df[text_feature].str.replace(\n",
    "            pattern, replacement, regex=True\n",
    "        )\n",
    "\n",
    "    # On supprime les mots d'une seule lettre\n",
    "    df[text_feature] = df[text_feature].apply(\n",
    "        lambda x: \" \".join([w for w in x.split() if len(w) > 1])\n",
    "    )\n",
    "\n",
    "    # define replacement patterns\n",
    "    replacements = {\n",
    "        # On supprime les espaces multiples\n",
    "        r\"\\s\\s+\": \" \",\n",
    "        # On strip les libellés\n",
    "        r\"^\\s+|\\s+$\": \"\",\n",
    "        # On remplace les empty string par des NaN\n",
    "        r\"^\\s*$\": np.nan,\n",
    "    }\n",
    "\n",
    "    # apply replacements to text_feature column\n",
    "    for pattern, replacement in replacements.items():\n",
    "        df[text_feature] = df[text_feature].replace(\n",
    "            pattern, replacement, regex=True\n",
    "        )\n",
    "\n",
    "    return df[pd.isnull(df).any(axis=1)].index"
   ]
  },
  {
   "cell_type": "code",
   "execution_count": null,
   "metadata": {},
   "outputs": [],
   "source": []
  }
 ],
 "metadata": {
  "kernelspec": {
   "display_name": "base",
   "language": "python",
   "name": "python3"
  },
  "language_info": {
   "codemirror_mode": {
    "name": "ipython",
    "version": 3
   },
   "file_extension": ".py",
   "mimetype": "text/x-python",
   "name": "python",
   "nbconvert_exporter": "python",
   "pygments_lexer": "ipython3",
   "version": "3.10.9"
  },
  "orig_nbformat": 4
 },
 "nbformat": 4,
 "nbformat_minor": 2
}
